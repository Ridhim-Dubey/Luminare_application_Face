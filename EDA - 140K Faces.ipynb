{
 "cells": [
  {
   "cell_type": "code",
   "execution_count": null,
   "id": "ed66cd89",
   "metadata": {},
   "outputs": [],
   "source": [
    "import pandas as pd\n",
    "import numpy as np\n",
    "import matplotlib.pyplot as plt\n",
    "import seaborn as sns"
   ]
  },
  {
   "cell_type": "code",
   "execution_count": null,
   "id": "12b06f22",
   "metadata": {},
   "outputs": [],
   "source": [
    "filepath = './140K-RealFakeImages'\n",
    "\n",
    "train = pd.read_csv(filepath + '/train.csv', usecols=['label', 'label_str', 'path'])\n",
    "test = pd.read_csv(filepath + '/test.csv', usecols=['label', 'label_str', 'path'])\n",
    "val = pd.read_csv(filepath + '/valid.csv', usecols=['label', 'label_str', 'path'])\n",
    "\n",
    "train.head()"
   ]
  },
  {
   "cell_type": "code",
   "execution_count": null,
   "id": "15e4bc93",
   "metadata": {},
   "outputs": [],
   "source": [
    "# Examine the ratio of real to fake images across train, test and validation sets\n",
    "\n",
    "train['label'] = train['label'].astype(int)\n",
    "test['label'] = test['label'].astype(int)\n",
    "val['label'] = val['label'].astype(int)"
   ]
  },
  {
   "cell_type": "code",
   "execution_count": null,
   "id": "3aef9c0e",
   "metadata": {},
   "outputs": [],
   "source": [
    "train.groupby(['label_str']).size()"
   ]
  },
  {
   "cell_type": "code",
   "execution_count": null,
   "id": "46713d0f",
   "metadata": {},
   "outputs": [],
   "source": [
    "test.groupby(['label_str']).size()"
   ]
  },
  {
   "cell_type": "code",
   "execution_count": null,
   "id": "f7b305c8",
   "metadata": {},
   "outputs": [],
   "source": [
    "val.groupby(['label_str']).size()"
   ]
  },
  {
   "cell_type": "code",
   "execution_count": null,
   "id": "3dd3ea49",
   "metadata": {},
   "outputs": [],
   "source": [
    "train['dataset'] = 'Train'\n",
    "test['dataset'] = 'Test'\n",
    "val['dataset'] = 'Validation'\n",
    "\n",
    "sns.countplot(x='dataset', hue='label_str',\n",
    "             data=pd.concat([train, test, val]),\n",
    "             orient='h')\n",
    "\n",
    "plt.xlabel('Dataset Type')\n",
    "plt.ylabel('Count')\n",
    "plt.title('Count of Real vs. Fake Images')\n",
    "plt.show()"
   ]
  },
  {
   "cell_type": "code",
   "execution_count": null,
   "id": "371ce19f",
   "metadata": {},
   "outputs": [],
   "source": [
    "import os\n",
    "import cv2\n",
    "import random\n",
    "\n",
    "# Plot a sample set of images from training set\n",
    "\n",
    "real_train_path = filepath + '/real_vs_fake/real-vs-fake/train/real'\n",
    "fake_train_path = filepath + '/real_vs_fake/real-vs-fake/train/fake'\n",
    "\n",
    "real_train_images = os.listdir(real_train_path)\n",
    "fake_train_images = os.listdir(fake_train_path)\n",
    "\n",
    "real_train_labels = [1] * len(real_train_images)\n",
    "fake_train_labels = [0] * len(fake_train_images)\n",
    "\n",
    "train_images = real_train_images + fake_train_images\n",
    "train_labels = real_train_labels + fake_train_labels\n",
    "\n",
    "def read_image(path):\n",
    "    img = cv2.imread(path)\n",
    "    img = cv2.cvtColor(img, cv2.COLOR_BGR2RGB) # Convert images from BGR to RGB\n",
    "    img = cv2.resize(img, (128, 128)) # Resize images to 128x128 pixels\n",
    "    return img\n",
    "\n",
    "def plot_image(img, label, ax, img_path):\n",
    "    ax.imshow(img)\n",
    "    ax.set_title('Real' if label==1 else 'Fake')\n",
    "    ax.set_xlabel(img_path)\n",
    "    ax.axis('off')\n",
    "\n",
    "random.seed(210)\n",
    "\n",
    "indices = np.random.choice(len(train_images), 25)\n",
    "fig, axes = plt.subplots(5,5, figsize=(15,6))\n",
    "axes = axes.flatten()\n",
    "\n",
    "for i, ax in zip(indices, axes):\n",
    "    img_name = train_images[i]\n",
    "    label = train_labels[i]\n",
    "    \n",
    "    img_path = os.path.join(real_train_path if label==1 else fake_train_path, img_name)\n",
    "    img = read_image(img_path)\n",
    "    plot_image(img, label, ax, img_path)\n",
    "    \n",
    "plt.tight_layout()\n",
    "plt.show()"
   ]
  },
  {
   "cell_type": "code",
   "execution_count": null,
   "id": "93d3db53",
   "metadata": {},
   "outputs": [],
   "source": [
    "from tqdm import tqdm\n",
    "\n",
    "# Explore pixel-level summary statistics for each image\n",
    "\n",
    "pix = np.array([read_image(os.path.join(real_train_path if train_labels[i]==1 else fake_train_path,\n",
    "                                       train_images[i])).flatten() for i in tqdm(range(len(train_images)))])\n",
    "\n",
    "stats = pd.DataFrame(pix).describe()\n",
    "# print(stats)"
   ]
  },
  {
   "cell_type": "code",
   "execution_count": null,
   "id": "29b47108",
   "metadata": {},
   "outputs": [],
   "source": [
    "real_px = np.array([read_image(os.path.join(real_train_path, train_images[i])).flatten()\n",
    "                   for i in tqdm(range(len(train_labels))) if train_labels[i]==1])\n",
    "fake_pix = np.array([read_image(os.path.join(fake_train_path, train_images[i])).flatten()\n",
    "                    for i in tqdm(range(len(train_labels))) if train_labels[i]==0])\n",
    "\n",
    "real_stats = pd.DataFrame(real_pix).describe()\n",
    "fake_stats = pd.DataFrame(fake_pix).describe()"
   ]
  },
  {
   "cell_type": "code",
   "execution_count": null,
   "id": "1484e6bb",
   "metadata": {},
   "outputs": [],
   "source": [
    "# Examine the various color channels within the images\n",
    "\n",
    "channels = ['Red', 'Green', 'Blue']\n",
    "\n",
    "for i in range(3):\n",
    "    plt.hist(pix[:, i::3], bins=256, alpha=0.5)\n",
    "    plt.xlabel('Pixel Value')\n",
    "    plt.ylabel('Frequency')\n",
    "    plt.title(channels[i] + ' Channel')\n",
    "    plt.show()"
   ]
  },
  {
   "cell_type": "code",
   "execution_count": null,
   "id": "4f3f6bff",
   "metadata": {},
   "outputs": [],
   "source": []
  }
 ],
 "metadata": {
  "kernelspec": {
   "display_name": "Python 3 (ipykernel)",
   "language": "python",
   "name": "python3"
  },
  "language_info": {
   "codemirror_mode": {
    "name": "ipython",
    "version": 3
   },
   "file_extension": ".py",
   "mimetype": "text/x-python",
   "name": "python",
   "nbconvert_exporter": "python",
   "pygments_lexer": "ipython3",
   "version": "3.10.7"
  }
 },
 "nbformat": 4,
 "nbformat_minor": 5
}
