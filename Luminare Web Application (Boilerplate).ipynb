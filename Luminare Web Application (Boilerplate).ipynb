{
 "cells": [
  {
   "cell_type": "code",
   "execution_count": null,
   "id": "01cdf68f",
   "metadata": {},
   "outputs": [],
   "source": [
    "from flask import Flask, render_template, request\n",
    "from werkzeug.serving import run_simple\n",
    "from werkzeug.wrappers import Request, Response\n",
    "import requests\n",
    "import threading"
   ]
  },
  {
   "cell_type": "code",
   "execution_count": null,
   "id": "acacbdf1",
   "metadata": {},
   "outputs": [],
   "source": [
    "# Define the Flask App\n",
    "\n",
    "app = Flask(__Luminare__)\n",
    "\n",
    "@app.route('/', methods=['GET', 'POST'])\n",
    "\n",
    "def index():\n",
    "    result = None\n",
    "    if request.method == 'POST':\n",
    "        image = request.files['face_image']\n",
    "        \n",
    "        # Replace with API endpoint and key\n",
    "        response = requests.post('API_ENDPOINT', files={'image': image}, headers={'Authorization': 'Bearer API_KEY'})\n",
    "        if response.status_code == 200:\n",
    "            result = response.json()\n",
    "        else:\n",
    "            result = {'error': 'Failed to verify the image'}\n",
    "            \n",
    "    return render_template('index.html', result=result)       "
   ]
  },
  {
   "cell_type": "code",
   "execution_count": null,
   "id": "3612ca14",
   "metadata": {},
   "outputs": [],
   "source": [
    "# Define HTML Template\n",
    "\n",
    "index_html = \"\"\"\n",
    "<!DOCTYPE html>\n",
    "<html lang=\"en\">\n",
    "<head>\n",
    "    <meta charset=\"UTF-8\">\n",
    "    <meta name=\"viewport\" content=\"width=device-width, initial-scale=1.0\">\n",
    "    <title>Luminare</title>\n",
    "</head>\n",
    "<body>\n",
    "    <div class=\"container\">\n",
    "        <h1>Luminare Image Verification</h1>\n",
    "        <form action=\"/\" method=\"post\" enctype=\"multipart/form-data\">\n",
    "            <input type=\"file\" name=\"face_image\" required>\n",
    "            <button type=\"submit\">Upload and Verify</button>\n",
    "        </form>\n",
    "        {% if result %}\n",
    "            {% if result.error %}\n",
    "                <p>Error: {{ result.error }}</p>\n",
    "            {% else %}\n",
    "                <p>Verification Result: {{ result }}</p>\n",
    "            {% endif %}\n",
    "        {% endif %}\n",
    "    </div>\n",
    "</body>\n",
    "</html>\n",
    "\"\"\"\n",
    "\n",
    "app.jinja_env.globals['index.html'] = index_html"
   ]
  },
  {
   "cell_type": "code",
   "execution_count": null,
   "id": "2f46dfd9",
   "metadata": {},
   "outputs": [],
   "source": [
    "# Run the Flask App in a Thread\n",
    "\n",
    "def run_app():\n",
    "    run_simple('localhost', 9000, app)\n",
    "    \n",
    "threading.Thread(target=run_app).start()"
   ]
  }
 ],
 "metadata": {
  "kernelspec": {
   "display_name": "Python 3 (ipykernel)",
   "language": "python",
   "name": "python3"
  },
  "language_info": {
   "codemirror_mode": {
    "name": "ipython",
    "version": 3
   },
   "file_extension": ".py",
   "mimetype": "text/x-python",
   "name": "python",
   "nbconvert_exporter": "python",
   "pygments_lexer": "ipython3",
   "version": "3.10.7"
  }
 },
 "nbformat": 4,
 "nbformat_minor": 5
}
