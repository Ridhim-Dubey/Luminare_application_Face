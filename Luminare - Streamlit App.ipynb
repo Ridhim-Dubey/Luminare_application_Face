{
 "cells": [
  {
   "cell_type": "code",
   "execution_count": 1,
   "id": "ff818650",
   "metadata": {},
   "outputs": [
    {
     "name": "stdout",
     "output_type": "stream",
     "text": [
      "Overwriting luminare_app.py\n"
     ]
    }
   ],
   "source": [
    "%%writefile luminare_app.py\n",
    "\n",
    "import streamlit as st\n",
    "import requests"
   ]
  },
  {
   "cell_type": "code",
   "execution_count": 2,
   "id": "c836f993",
   "metadata": {},
   "outputs": [
    {
     "ename": "NameError",
     "evalue": "name 'st' is not defined",
     "output_type": "error",
     "traceback": [
      "\u001b[1;31m---------------------------------------------------------------------------\u001b[0m",
      "\u001b[1;31mNameError\u001b[0m                                 Traceback (most recent call last)",
      "Cell \u001b[1;32mIn[2], line 23\u001b[0m\n\u001b[0;32m     20\u001b[0m             st\u001b[38;5;241m.\u001b[39merror(\u001b[38;5;124m'\u001b[39m\u001b[38;5;124mFailed to verify the image\u001b[39m\u001b[38;5;124m'\u001b[39m)\n\u001b[0;32m     22\u001b[0m \u001b[38;5;28;01mif\u001b[39;00m \u001b[38;5;18m__name__\u001b[39m \u001b[38;5;241m==\u001b[39m \u001b[38;5;124m\"\u001b[39m\u001b[38;5;124m__main__\u001b[39m\u001b[38;5;124m\"\u001b[39m:\n\u001b[1;32m---> 23\u001b[0m     \u001b[43mmain\u001b[49m\u001b[43m(\u001b[49m\u001b[43m)\u001b[49m\n",
      "Cell \u001b[1;32mIn[2], line 2\u001b[0m, in \u001b[0;36mmain\u001b[1;34m()\u001b[0m\n\u001b[0;32m      1\u001b[0m \u001b[38;5;28;01mdef\u001b[39;00m \u001b[38;5;21mmain\u001b[39m():\n\u001b[1;32m----> 2\u001b[0m     \u001b[43mst\u001b[49m\u001b[38;5;241m.\u001b[39mtitle(\u001b[38;5;124m'\u001b[39m\u001b[38;5;124mLuminare - Face Image Verification\u001b[39m\u001b[38;5;124m'\u001b[39m)\n\u001b[0;32m      4\u001b[0m     uploaded_file \u001b[38;5;241m=\u001b[39m st\u001b[38;5;241m.\u001b[39mfile_uploader(\u001b[38;5;124m\"\u001b[39m\u001b[38;5;124mUpload an image of a human face to check if it\u001b[39m\u001b[38;5;124m'\u001b[39m\u001b[38;5;124ms real or AI-generated\u001b[39m\u001b[38;5;124m\"\u001b[39m, \u001b[38;5;28mtype\u001b[39m\u001b[38;5;241m=\u001b[39m[\u001b[38;5;124m\"\u001b[39m\u001b[38;5;124mjpg\u001b[39m\u001b[38;5;124m\"\u001b[39m, \u001b[38;5;124m\"\u001b[39m\u001b[38;5;124mjpeg\u001b[39m\u001b[38;5;124m\"\u001b[39m, \u001b[38;5;124m\"\u001b[39m\u001b[38;5;124mpng\u001b[39m\u001b[38;5;124m\"\u001b[39m])\n\u001b[0;32m      6\u001b[0m     \u001b[38;5;28;01mif\u001b[39;00m uploaded_file \u001b[38;5;129;01mis\u001b[39;00m \u001b[38;5;129;01mnot\u001b[39;00m \u001b[38;5;28;01mNone\u001b[39;00m:\n\u001b[0;32m      7\u001b[0m         \u001b[38;5;66;03m# Display the uploaded image\u001b[39;00m\n",
      "\u001b[1;31mNameError\u001b[0m: name 'st' is not defined"
     ]
    }
   ],
   "source": [
    "def main():\n",
    "    st.title('Luminare - Face Image Verification')\n",
    "\n",
    "    uploaded_file = st.file_uploader(\"Upload an image of a human face to check if it's real or AI-generated\", type=[\"jpg\", \"jpeg\", \"png\"])\n",
    "\n",
    "    if uploaded_file is not None:\n",
    "        # Display the uploaded image\n",
    "        st.image(uploaded_file, caption='Uploaded Image', use_column_width=True)\n",
    "\n",
    "        # Replace 'API_ENDPOINT' and 'API_KEY' with API details\n",
    "        # response = requests.post('API_ENDPOINT', files={'image': uploaded_file}, headers={'Authorization': 'Bearer API_KEY'})\n",
    "\n",
    "        # For demonstration, let's assume the API response is a dummy dictionary\n",
    "        response = {'status': 'Success', 'result': 'Real'}\n",
    "\n",
    "        if response['status'] == 'Success':\n",
    "            result = response['result']\n",
    "            st.success(f'Verification Complete: The image is {result}')\n",
    "        else:\n",
    "            st.error('Failed to verify the image')\n",
    "\n",
    "if __name__ == \"__main__\":\n",
    "    main()"
   ]
  },
  {
   "cell_type": "code",
   "execution_count": null,
   "id": "eb15463f",
   "metadata": {},
   "outputs": [],
   "source": [
    "from pyngrok import ngrok\n",
    "import os\n",
    "\n",
    "# Terminate open tunnels if exist\n",
    "ngrok.kill()\n",
    "\n",
    "# Setup a new ngrok tunnel for the Streamlit app\n",
    "public_url = ngrok.connect(8501)\n",
    "print(f\"Streamlit app is running at: {public_url}\")\n",
    "\n",
    "# Running Streamlit app in the background\n",
    "!streamlit run luminare_app.py &"
   ]
  }
 ],
 "metadata": {
  "kernelspec": {
   "display_name": "Python 3 (ipykernel)",
   "language": "python",
   "name": "python3"
  },
  "language_info": {
   "codemirror_mode": {
    "name": "ipython",
    "version": 3
   },
   "file_extension": ".py",
   "mimetype": "text/x-python",
   "name": "python",
   "nbconvert_exporter": "python",
   "pygments_lexer": "ipython3",
   "version": "3.12.2"
  }
 },
 "nbformat": 4,
 "nbformat_minor": 5
}
